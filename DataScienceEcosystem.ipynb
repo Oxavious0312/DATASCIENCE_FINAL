{
  "metadata": {
    "language_info": {
      "codemirror_mode": {
        "name": "python",
        "version": 3
      },
      "file_extension": ".py",
      "mimetype": "text/x-python",
      "name": "python",
      "nbconvert_exporter": "python",
      "pygments_lexer": "ipython3",
      "version": "3.8"
    },
    "kernelspec": {
      "name": "python",
      "display_name": "Python (Pyodide)",
      "language": "python"
    }
  },
  "nbformat_minor": 4,
  "nbformat": 4,
  "cells": [
    {
      "cell_type": "markdown",
      "source": "Data Science Tools and Ecosystem",
      "metadata": {}
    },
    {
      "cell_type": "markdown",
      "source": "In this notebook, Data Science Tools and Ecosystem are summarized.",
      "metadata": {}
    },
    {
      "cell_type": "markdown",
      "source": "OBJECTIVES:\n\n- List popular languages for Data Science\n- Some of the commonly used libraries used by Data Scientists\n- DATA SCIENCE TOOLS\n- Arithmatic expressions",
      "metadata": {}
    },
    {
      "cell_type": "markdown",
      "source": "Some of the popular languages that Data Scientists use are:\n\n1. python\n2. R\n3. SQL\n4. JAVA\n5. JAVA SCRIPT",
      "metadata": {
        "tags": []
      }
    },
    {
      "cell_type": "markdown",
      "source": "Some of the commonly used libraries used by Data Scientists include:\n\n1. SCIKIT - LEARN\n2. TENSORFLOW\n3. PYTORCH\n4. NUMPY\n5. PANDAS\n6. KERAS",
      "metadata": {}
    },
    {
      "cell_type": "markdown",
      "source": "DATA SCIENCE TOOLS:-\n\n1. MYSQL\n2. MANGODB\n3. COUCHDB\n4. CASSANDRA\n5. HADOOP\n6. CEPH\n7. APACHE KAFKA\n8. SPARK SQL\n9. TENSORFLOW SERVING\n10. HUE",
      "metadata": {
        "tags": []
      }
    },
    {
      "cell_type": "markdown",
      "source": "Below are a few examples of evaluating arithmetic expressions in Python",
      "metadata": {}
    },
    {
      "cell_type": "code",
      "source": "(3*4)+5\n#This a simple arithmetic expression to mutiply then add integers",
      "metadata": {
        "tags": [],
        "trusted": true
      },
      "execution_count": 1,
      "outputs": [
        {
          "execution_count": 1,
          "output_type": "execute_result",
          "data": {
            "text/plain": "17"
          },
          "metadata": {}
        }
      ]
    },
    {
      "cell_type": "code",
      "source": "minutes=200\n \n# This will convert 200 minutes to hours by diving by 60\n\nhour = minutes//60\nleft_minutes = minutes%60\n\nprint(\" hours = \" , hour)\nprint(\" minutes = \", left_minutes)",
      "metadata": {
        "trusted": true
      },
      "execution_count": 6,
      "outputs": [
        {
          "name": "stdout",
          "text": " hours =  3\n minutes =  20\n",
          "output_type": "stream"
        }
      ]
    },
    {
      "cell_type": "markdown",
      "source": "SANGARAJU SAI SATHVIK VARMA",
      "metadata": {}
    }
  ]
}